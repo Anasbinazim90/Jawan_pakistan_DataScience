{
 "cells": [
  {
   "cell_type": "code",
   "execution_count": 1,
   "metadata": {},
   "outputs": [
    {
     "name": "stdout",
     "output_type": "stream",
     "text": [
      "Twinkle, twinkle, little star,\n",
      "\tHow I wonder what you are\n",
      "\t\tUp above the world so high,\n",
      "\t\tLike a diamond in the sky.\n",
      "Twinkle, twinkle, little star,\n",
      "\tHow I wonder what you are\n"
     ]
    }
   ],
   "source": [
    "\"\"\"\n",
    "1. Write a Python program to print the following string in a specific format (see the\n",
    "output).\n",
    "\n",
    "Twinkle, twinkle, little star,\n",
    "        How I wonder what you are!\n",
    "                Up above the world so high,\n",
    "                Like a diamond in the sky.\n",
    "\n",
    "Twinkle, twinkle, little star,\n",
    "        How I wonder what you are\n",
    "\"\"\"\n",
    "print(\"Twinkle, twinkle, little star,\\n\\tHow I wonder what you are\")\n",
    "print(\"\\t\\tUp above the world so high,\\n\\t\\tLike a diamond in the sky.\")\n",
    "print(\"Twinkle, twinkle, little star,\\n\\tHow I wonder what you are\")"
   ]
  },
  {
   "cell_type": "code",
   "execution_count": 2,
   "metadata": {},
   "outputs": [
    {
     "name": "stdout",
     "output_type": "stream",
     "text": [
      "Python version : \n",
      "3.8.5 (default, Sep  3 2020, 21:29:08) [MSC v.1916 64 bit (AMD64)]\n"
     ]
    }
   ],
   "source": [
    "\"\"\"\n",
    "Write a Python program to get the Python version you are using\n",
    "\"\"\"\n",
    "import sys\n",
    "print(\"Python version : \")\n",
    "print (sys.version)"
   ]
  },
  {
   "cell_type": "code",
   "execution_count": 3,
   "metadata": {},
   "outputs": [
    {
     "name": "stdout",
     "output_type": "stream",
     "text": [
      "Current Date and Time : \n",
      "2021-10-23 15:41:23\n"
     ]
    }
   ],
   "source": [
    "\"\"\"\n",
    "Write a Python program to display the current date and time.\n",
    "\"\"\"\n",
    "import datetime\n",
    "now = datetime.datetime.now()\n",
    "print (\"Current Date and Time : \")\n",
    "print (now.strftime(\"%Y-%m-%d %H:%M:%S\"))"
   ]
  },
  {
   "cell_type": "code",
   "execution_count": 4,
   "metadata": {},
   "outputs": [
    {
     "name": "stdout",
     "output_type": "stream",
     "text": [
      "Enter radius of a circle in centimeter : 3\n",
      "Area of a circle :  28.26 cm\n"
     ]
    }
   ],
   "source": [
    "\"\"\"\n",
    "Write a Python program which accepts the radius of a circle from the user and compute\n",
    "the area.\n",
    "\"\"\"\n",
    "\n",
    "r = int(input(\"Enter radius of a circle in centimeter : \"))\n",
    "a = 3.14 * (r*r)\n",
    "print(\"Area of a circle : \", a,\"cm\")"
   ]
  },
  {
   "cell_type": "code",
   "execution_count": 5,
   "metadata": {},
   "outputs": [
    {
     "name": "stdout",
     "output_type": "stream",
     "text": [
      "First Name :Anas\n",
      "Last Name :Bin Azim\n",
      "Bin Azim Anas\n"
     ]
    }
   ],
   "source": [
    "\"\"\"\n",
    "Write a Python program which accepts the user's first and last name and print them in\n",
    "reverse order with a space between them.\n",
    "\"\"\"\n",
    "\n",
    "a = input(\"First Name :\")\n",
    "b = input(\"Last Name :\")\n",
    "print(b , a)"
   ]
  },
  {
   "cell_type": "code",
   "execution_count": 6,
   "metadata": {},
   "outputs": [
    {
     "name": "stdout",
     "output_type": "stream",
     "text": [
      "First input : Hello\n",
      "Second input : Guys\n",
      "HelloGuys\n"
     ]
    }
   ],
   "source": [
    "\"\"\"\n",
    "Write a python program which takes two inputs from user and print them addition\n",
    "\"\"\"\n",
    "a = input(\"First input : \")\n",
    "b = input(\"Second input : \")\n",
    "print(a + b)"
   ]
  },
  {
   "cell_type": "code",
   "execution_count": 7,
   "metadata": {},
   "outputs": [
    {
     "name": "stdout",
     "output_type": "stream",
     "text": [
      "Enter your Programming marks : 85\n",
      "Enter your Data Structures marks : 80\n",
      "Enter your Web engineering marks : 70\n",
      "Enter your Professional ethics marks : 80\n",
      "Enter your Software engineering marks : 90\n",
      "\n",
      "\n",
      "\t\tMARKSHEET\n",
      "\t\t=========\n",
      "Your Programming marks =  85 /100\n",
      "Your Data Structures marks =  80 /100\n",
      "Your Web engineering marks =  70 /100\n",
      "Your Professional ethics marks =  80 /100\n",
      "Your Software engineering marks =  90 /100\n",
      "\n",
      "\n",
      "Your Percentage is =  81.0\n",
      "A1-Grade\n"
     ]
    }
   ],
   "source": [
    "\"\"\"\n",
    "Write a program which takes 5 inputs from user for different subject’s marks, total it\n",
    "and generate mark sheet using grades ?\n",
    "\"\"\"\n",
    "\"\"\"YOU MUST ENTER YOUR MARKS OUT OF 100\"\"\"\n",
    "a = int(input(\"Enter your Programming marks : \"))\n",
    "b = int(input(\"Enter your Data Structures marks : \"))\n",
    "c = int(input(\"Enter your Web engineering marks : \"))\n",
    "d = int(input(\"Enter your Professional ethics marks : \"))\n",
    "e = int(input(\"Enter your Software engineering marks : \"))\n",
    "print(\"\\n\")\n",
    "print(\"\\t\\tMARKSHEET\\n\\t\\t=========\")\n",
    "print(\"Your Programming marks = \",a,\"/100\")\n",
    "print(\"Your Data Structures marks = \",b,\"/100\")\n",
    "print(\"Your Web engineering marks = \",c,\"/100\")\n",
    "print(\"Your Professional ethics marks = \",d,\"/100\")\n",
    "print(\"Your Software engineering marks = \",e,\"/100\")\n",
    "print(\"\\n\")\n",
    "per = ((a+b+c+d+e)/500)*100\n",
    "print(\"Your Percentage is = \", per)\n",
    "if (per >= 80):\n",
    "    print (\"A1-Grade\")\n",
    "elif (per < 80 and per >= 70):\n",
    "    print(\"A-Grade\")\n",
    "elif (per < 70 and per >= 60):\n",
    "    print(\"B-Grade\")\n",
    "elif (per < 60 and per >= 50):\n",
    "    print(\"C-Grade\")\n",
    "elif (per < 50 and per >= 40):\n",
    "    print(\"D-Grade\")\n",
    "elif (per < 40 and per >= 33):\n",
    "    print(\"E-Grade\")\n",
    "elif (per < 33):\n",
    "    print(\"FAIL\")"
   ]
  },
  {
   "cell_type": "code",
   "execution_count": 8,
   "metadata": {},
   "outputs": [
    {
     "name": "stdout",
     "output_type": "stream",
     "text": [
      "Enter any number : 10\n",
      "This is an odd number\n"
     ]
    }
   ],
   "source": [
    "\"\"\"\n",
    "Write a program which take input from user and identify that the given number is even\n",
    "or odd?\n",
    "\"\"\"\n",
    "a = int(input(\"Enter any number : \"))\n",
    "if (a % 2) == 0 :\n",
    "    print(\"This is an odd number\")\n",
    "else:\n",
    "    print(\"This is an even number\")"
   ]
  },
  {
   "cell_type": "code",
   "execution_count": 9,
   "metadata": {},
   "outputs": [
    {
     "name": "stdout",
     "output_type": "stream",
     "text": [
      "11\n"
     ]
    }
   ],
   "source": [
    "\"\"\"\n",
    "Write a program which print the length of the list?\n",
    "\"\"\"\n",
    "a = [1, 1, 2, 3, 5, 8, 13, 21, 34, 55, 89]\n",
    "print(len(a))"
   ]
  },
  {
   "cell_type": "code",
   "execution_count": 10,
   "metadata": {},
   "outputs": [
    {
     "name": "stdout",
     "output_type": "stream",
     "text": [
      "232\n"
     ]
    }
   ],
   "source": [
    "\"\"\"\n",
    "10.Write a Python program to sum all the numeric items in a list?\n",
    "\"\"\"\n",
    "a = [1, 1, 2, 3, 5, 8, 13, 21, 34, 55, 89]\n",
    "print(sum(a))"
   ]
  },
  {
   "cell_type": "code",
   "execution_count": 11,
   "metadata": {},
   "outputs": [
    {
     "name": "stdout",
     "output_type": "stream",
     "text": [
      "89\n"
     ]
    }
   ],
   "source": [
    "\"\"\"\n",
    "11.Write a Python program to get the largest number from a numeric list.\n",
    "\"\"\"\n",
    "a = [1, 1, 2, 3, 5, 8, 13, 21, 34, 55, 89]\n",
    "print(max(a))"
   ]
  },
  {
   "cell_type": "code",
   "execution_count": 12,
   "metadata": {},
   "outputs": [
    {
     "name": "stdout",
     "output_type": "stream",
     "text": [
      "1\n",
      "1\n",
      "2\n",
      "3\n"
     ]
    }
   ],
   "source": [
    "\"\"\"\n",
    "11.Write a Python program to get the largest number from a numeric list.\n",
    "\"\"\"\n",
    "a = [1, 1, 2, 3, 5, 8, 13, 21, 34, 55, 89]\n",
    "for i in a:\n",
    "    if i < 5:\n",
    "        print(i)"
   ]
  },
  {
   "cell_type": "code",
   "execution_count": null,
   "metadata": {},
   "outputs": [],
   "source": []
  }
 ],
 "metadata": {
  "kernelspec": {
   "display_name": "Python 3",
   "language": "python",
   "name": "python3"
  },
  "language_info": {
   "codemirror_mode": {
    "name": "ipython",
    "version": 3
   },
   "file_extension": ".py",
   "mimetype": "text/x-python",
   "name": "python",
   "nbconvert_exporter": "python",
   "pygments_lexer": "ipython3",
   "version": "3.8.5"
  }
 },
 "nbformat": 4,
 "nbformat_minor": 4
}
